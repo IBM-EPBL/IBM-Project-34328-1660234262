
import pandas as pd
import numpy as np
import warnings
warnings.filterwarnings("ignore")
rain_df= pd.read_csv("Collected Dataset/Rainfall.csv")
rain_df.head()
SUBDIVISION	YEAR	JAN	FEB	MAR	APR	MAY	JUN	JUL	AUG	SEP	OCT	NOV	DEC	ANNUAL	Jan-Feb	Mar-May	Jun-Sep	Oct-Dec
0	ANDAMAN & NICOBAR ISLANDS	1901	49.2	87.1	29.2	2.3	528.8	517.5	365.1	481.1	332.6	388.5	558.2	33.6	3373.2	136.3	560.3	1696.3	980.3
1	ANDAMAN & NICOBAR ISLANDS	1902	0.0	159.8	12.2	0.0	446.1	537.1	228.9	753.7	666.2	197.2	359.0	160.5	3520.7	159.8	458.3	2185.9	716.7
2	ANDAMAN & NICOBAR ISLANDS	1903	12.7	144.0	0.0	1.0	235.1	479.9	728.4	326.7	339.0	181.2	284.4	225.0	2957.4	156.7	236.1	1874.0	690.6
3	ANDAMAN & NICOBAR ISLANDS	1904	9.4	14.7	0.0	202.4	304.5	495.1	502.0	160.1	820.4	222.2	308.7	40.1	3079.6	24.1	506.9	1977.6	571.0
4	ANDAMAN & NICOBAR ISLANDS	1905	1.3	0.0	3.3	26.9	279.5	628.7	368.7	330.5	297.0	260.7	25.4	344.7	2566.7	1.3	309.7	1624.9	630.8
rain_df=rain_df[["SUBDIVISION","YEAR","JAN","FEB","MAR","APR","MAY","JUN","JUL","AUG","SEP","OCT","NOV","DEC"]]
rain_df.head()
SUBDIVISION	YEAR	JAN	FEB	MAR	APR	MAY	JUN	JUL	AUG	SEP	OCT	NOV	DEC
0	ANDAMAN & NICOBAR ISLANDS	1901	49.2	87.1	29.2	2.3	528.8	517.5	365.1	481.1	332.6	388.5	558.2	33.6
1	ANDAMAN & NICOBAR ISLANDS	1902	0.0	159.8	12.2	0.0	446.1	537.1	228.9	753.7	666.2	197.2	359.0	160.5
2	ANDAMAN & NICOBAR ISLANDS	1903	12.7	144.0	0.0	1.0	235.1	479.9	728.4	326.7	339.0	181.2	284.4	225.0
3	ANDAMAN & NICOBAR ISLANDS	1904	9.4	14.7	0.0	202.4	304.5	495.1	502.0	160.1	820.4	222.2	308.7	40.1
4	ANDAMAN & NICOBAR ISLANDS	1905	1.3	0.0	3.3	26.9	279.5	628.7	368.7	330.5	297.0	260.7	25.4	344.7
rain_df.count()
SUBDIVISION    4116
YEAR           4116
JAN            4112
FEB            4113
MAR            4110
APR            4112
MAY            4113
JUN            4111
JUL            4109
AUG            4112
SEP            4110
OCT            4109
NOV            4105
DEC            4106
dtype: int64
rain_df.info()
RangeIndex: 4116 entries, 0 to 4115
Data columns (total 14 columns):
 #   Column       Non-Null Count  Dtype  
---  ------       --------------  -----  
 0   SUBDIVISION  4116 non-null   object 
 1   YEAR         4116 non-null   int64  
 2   JAN          4112 non-null   float64
 3   FEB          4113 non-null   float64
 4   MAR          4110 non-null   float64
 5   APR          4112 non-null   float64
 6   MAY          4113 non-null   float64
 7   JUN          4111 non-null   float64
 8   JUL          4109 non-null   float64
 9   AUG          4112 non-null   float64
 10  SEP          4110 non-null   float64
 11  OCT          4109 non-null   float64
 12  NOV          4105 non-null   float64
 13  DEC          4106 non-null   float64
dtypes: float64(12), int64(1), object(1)
memory usage: 450.3+ KB
rain_df.isnull().sum()
SUBDIVISION     0
YEAR            0
JAN             4
FEB             3
MAR             6
APR             4
MAY             3
JUN             5
JUL             7
AUG             4
SEP             6
OCT             7
NOV            11
DEC            10
dtype: int64
rain_df=rain_df.fillna(rain_df.mean())
rain_df.isnull().sum()
SUBDIVISION    0
YEAR           0
JAN            0
FEB            0
MAR            0
APR            0
MAY            0
JUN            0
JUL            0
AUG            0
SEP            0
OCT            0
NOV            0
DEC            0
dtype: int64
rain_df.rename(columns={"JAN":1,"FEB":2,"MAR":3,"APR":4,"MAY":5,"JUN":6,"JUL":7,"AUG":8,"SEP":9,"OCT":10,"NOV":11,"DEC":12}, inplace = True)
rain_df.head()
SUBDIVISION	YEAR	1	2	3	4	5	6	7	8	9	10	11	12
0	ANDAMAN & NICOBAR ISLANDS	1901	49.2	87.1	29.2	2.3	528.8	517.5	365.1	481.1	332.6	388.5	558.2	33.6
1	ANDAMAN & NICOBAR ISLANDS	1902	0.0	159.8	12.2	0.0	446.1	537.1	228.9	753.7	666.2	197.2	359.0	160.5
2	ANDAMAN & NICOBAR ISLANDS	1903	12.7	144.0	0.0	1.0	235.1	479.9	728.4	326.7	339.0	181.2	284.4	225.0
3	ANDAMAN & NICOBAR ISLANDS	1904	9.4	14.7	0.0	202.4	304.5	495.1	502.0	160.1	820.4	222.2	308.7	40.1
4	ANDAMAN & NICOBAR ISLANDS	1905	1.3	0.0	3.3	26.9	279.5	628.7	368.7	330.5	297.0	260.7	25.4	344.7
maxtemp_df=pd.read_csv("Collected Dataset/Max_temp.csv")
maxtemp_df.head()
Year	Jan	Feb	Mar	Apr	May	Jun	Jul	Aug	Sep	Oct	Nov	Dec
0	1901	9.65	11.38	16.27	20.56	23.29	25.00	23.68	22.61	22.00	19.52	14.28	10.93
1	1902	11.17	12.61	17.71	21.02	23.80	24.62	23.50	23.47	21.59	18.73	13.62	10.38
2	1903	10.34	11.57	15.54	20.21	22.93	24.90	23.84	22.73	21.83	18.53	13.20	10.00
3	1904	10.11	12.07	15.90	21.22	23.08	23.75	22.70	22.69	21.60	18.75	13.54	10.71
4	1905	9.24	10.28	14.63	18.76	23.72	25.21	23.45	23.12	21.86	19.01	14.63	10.50
maxtemp_df.count()
Year    121
Jan     121
Feb     121
Mar     121
Apr     121
May     121
Jun     121
Jul     121
Aug     121
Sep     121
Oct     121
Nov     121
Dec     121
dtype: int64
maxtemp_df.isnull().sum()
Year    0
Jan     0
Feb     0
Mar     0
Apr     0
May     0
Jun     0
Jul     0
Aug     0
Sep     0
Oct     0
Nov     0
Dec     0
dtype: int64
maxtemp_df.rename(columns={"Year":"YEAR","Jan":1,"Feb":2,"Mar":3,"Apr":4,"May":5,"Jun":6,"Jul":7,"Aug":8,"Sep":9,"Oct":10,"Nov":11,"Dec":12}, inplace = True)
maxtemp_df.head()
YEAR	1	2	3	4	5	6	7	8	9	10	11	12
0	1901	9.65	11.38	16.27	20.56	23.29	25.00	23.68	22.61	22.00	19.52	14.28	10.93
1	1902	11.17	12.61	17.71	21.02	23.80	24.62	23.50	23.47	21.59	18.73	13.62	10.38
2	1903	10.34	11.57	15.54	20.21	22.93	24.90	23.84	22.73	21.83	18.53	13.20	10.00
3	1904	10.11	12.07	15.90	21.22	23.08	23.75	22.70	22.69	21.60	18.75	13.54	10.71
4	1905	9.24	10.28	14.63	18.76	23.72	25.21	23.45	23.12	21.86	19.01	14.63	10.50
mintemp_df=pd.read_csv("Collected Dataset/Min_temp.csv")
mintemp_df.head()
Year	Jan	Feb	Mar	Apr	May	Jun	Jul	Aug	Sep	Oct	Nov	Dec
0	1901	23.64	25.67	31.19	34.84	36.59	35.52	31.61	30.00	30.91	31.28	27.57	24.78
1	1902	25.20	27.05	32.45	35.20	37.01	35.17	31.39	30.91	30.49	30.52	27.12	24.29
2	1903	24.35	25.91	30.24	34.45	36.22	35.47	31.80	30.12	30.73	30.27	26.46	23.89
3	1904	24.19	26.52	30.69	35.34	36.33	34.25	30.64	30.10	30.61	30.63	26.91	24.57
4	1905	23.24	24.68	29.30	33.06	36.98	35.83	31.38	30.46	30.77	30.73	28.06	24.31
mintemp_df.count()
Year    121
Jan     121
Feb     121
Mar     121
Apr     121
May     121
Jun     121
Jul     121
Aug     121
Sep     121
Oct     121
Nov     121
Dec     121
dtype: int64
mintemp_df.isnull().sum()
Year    0
Jan     0
Feb     0
Mar     0
Apr     0
May     0
Jun     0
Jul     0
Aug     0
Sep     0
Oct     0
Nov     0
Dec     0
dtype: int64
mintemp_df.rename(columns={"Year":"YEAR","Jan":1,"Feb":2,"Mar":3,"Apr":4,"May":5,"Jun":6,"Jul":7,"Aug":8,"Sep":9,"Oct":10,"Nov":11,"Dec":12}, inplace = True)
mintemp_df.head()
YEAR	1	2	3	4	5	6	7	8	9	10	11	12
0	1901	23.64	25.67	31.19	34.84	36.59	35.52	31.61	30.00	30.91	31.28	27.57	24.78
1	1902	25.20	27.05	32.45	35.20	37.01	35.17	31.39	30.91	30.49	30.52	27.12	24.29
2	1903	24.35	25.91	30.24	34.45	36.22	35.47	31.80	30.12	30.73	30.27	26.46	23.89
3	1904	24.19	26.52	30.69	35.34	36.33	34.25	30.64	30.10	30.61	30.63	26.91	24.57
4	1905	23.24	24.68	29.30	33.06	36.98	35.83	31.38	30.46	30.77	30.73	28.06	24.31
meantemp_df=pd.read_csv("Collected Dataset/Mean_temp.csv")
meantemp_df.head()
Year	Jan	Feb	Mar	Apr	May	Jun	Jul	Aug	Sep	Oct	Nov	Dec
0	1901	16.62	18.51	23.71	27.68	29.92	30.23	27.62	26.28	26.43	25.37	20.90	17.83
1	1902	18.16	19.81	25.06	28.08	30.38	29.87	27.42	27.17	26.02	24.61	20.35	17.31
2	1903	17.32	18.72	22.87	27.31	29.55	30.16	27.79	26.40	26.26	24.38	19.81	16.92
3	1904	17.13	19.27	23.27	28.26	29.68	28.98	26.65	26.37	26.08	24.66	20.20	17.62
4	1905	16.22	17.46	21.95	25.88	30.33	30.50	27.39	26.77	26.29	24.84	21.32	17.38
meantemp_df.count()
Year    121
Jan     121
Feb     121
Mar     121
Apr     121
May     121
Jun     121
Jul     121
Aug     121
Sep     121
Oct     121
Nov     121
Dec     121
dtype: int64
meantemp_df.isnull().sum()
Year    0
Jan     0
Feb     0
Mar     0
Apr     0
May     0
Jun     0
Jul     0
Aug     0
Sep     0
Oct     0
Nov     0
Dec     0
dtype: int64
meantemp_df.rename(columns={"Year":"YEAR","Jan":1,"Feb":2,"Mar":3,"Apr":4,"May":5,"Jun":6,"Jul":7,"Aug":8,"Sep":9,"Oct":10,"Nov":11,"Dec":12}, inplace = True)
meantemp_df.head()
YEAR	1	2	3	4	5	6	7	8	9	10	11	12
0	1901	16.62	18.51	23.71	27.68	29.92	30.23	27.62	26.28	26.43	25.37	20.90	17.83
1	1902	18.16	19.81	25.06	28.08	30.38	29.87	27.42	27.17	26.02	24.61	20.35	17.31
2	1903	17.32	18.72	22.87	27.31	29.55	30.16	27.79	26.40	26.26	24.38	19.81	16.92
3	1904	17.13	19.27	23.27	28.26	29.68	28.98	26.65	26.37	26.08	24.66	20.20	17.62
4	1905	16.22	17.46	21.95	25.88	30.33	30.50	27.39	26.77	26.29	24.84	21.32	17.38
preceptions_df=pd.read_csv("Collected Dataset/Preceptions.csv")
preceptions_df.head()
Year	Jan	Feb	Mar	Apr	May	Jun	Jul	Aug	Sep	Oct	Nov	Dec
0	1901	30.13	20.05	21.32	25.99	55.09	111.72	248.29	257.81	121.30	60.70	37.99	9.50
1	1902	7.87	3.27	14.61	32.87	47.62	131.09	268.76	212.70	213.29	70.70	24.13	19.46
2	1903	10.44	6.54	11.69	13.66	60.66	157.74	303.66	273.62	190.55	97.88	37.06	16.03
3	1904	9.59	7.49	24.50	23.42	70.72	143.88	259.25	220.55	131.42	68.30	8.89	9.13
4	1905	17.64	15.43	24.89	31.64	51.35	83.52	252.51	222.41	194.31	54.27	9.88	4.82
preceptions_df.count()
Year    121
Jan     121
Feb     121
Mar     121
Apr     121
May     121
Jun     121
Jul     121
Aug     121
Sep     121
Oct     121
Nov     121
Dec     121
dtype: int64
preceptions_df.isnull().sum()
Year    0
Jan     0
Feb     0
Mar     0
Apr     0
May     0
Jun     0
Jul     0
Aug     0
Sep     0
Oct     0
Nov     0
Dec     0
dtype: int64
preceptions_df.rename(columns={"Year":"YEAR","Jan":1,"Feb":2,"Mar":3,"Apr":4,"May":5,"Jun":6,"Jul":7,"Aug":8,"Sep":9,"Oct":10,"Nov":11,"Dec":12}, inplace = True)
preceptions_df.head()
YEAR	1	2	3	4	5	6	7	8	9	10	11	12
0	1901	30.13	20.05	21.32	25.99	55.09	111.72	248.29	257.81	121.30	60.70	37.99	9.50
1	1902	7.87	3.27	14.61	32.87	47.62	131.09	268.76	212.70	213.29	70.70	24.13	19.46
2	1903	10.44	6.54	11.69	13.66	60.66	157.74	303.66	273.62	190.55	97.88	37.06	16.03
3	1904	9.59	7.49	24.50	23.42	70.72	143.88	259.25	220.55	131.42	68.30	8.89	9.13
4	1905	17.64	15.43	24.89	31.64	51.35	83.52	252.51	222.41	194.31	54.27	9.88	4.82
pressure_df=pd.read_csv("Collected dataset/Pressure.csv")
pressure_df.head()
YEAR	JAN	FEB	MAR	APR	MAY	JUN	JUL	AUG	SEP	OCT	NOV	DEC	ANN
0	1981	94.20	94.10	93.97	93.78	93.66	93.56	93.58	93.62	93.69	93.94	94.05	94.30	93.87
1	1982	94.18	94.01	93.90	93.79	93.79	93.63	93.59	93.66	93.84	94.02	94.08	94.27	93.90
2	1983	94.27	94.07	93.98	93.81	93.71	93.57	93.59	93.59	93.67	93.83	94.17	94.14	93.87
3	1984	93.98	93.90	93.94	93.70	93.56	93.48	93.51	93.66	93.77	93.92	94.11	94.00	93.79
4	1985	94.09	93.72	93.89	93.67	93.55	93.60	93.68	93.62	93.75	93.86	94.05	94.15	93.80
pressure_df.count()
YEAR    41
JAN     41
FEB     41
MAR     41
APR     41
MAY     41
JUN     41
JUL     41
AUG     41
SEP     41
OCT     41
NOV     41
DEC     41
ANN     41
dtype: int64
pressure_df.isnull().sum()
YEAR    0
JAN     0
FEB     0
MAR     0
APR     0
MAY     0
JUN     0
JUL     0
AUG     0
SEP     0
OCT     0
NOV     0
DEC     0
ANN     0
dtype: int64
pressure_df=pressure_df.drop(['ANN'], axis=1)
pressure_df.rename(columns={"JAN":1,"FEB":2,"MAR":3,"APR":4,"MAY":5,"JUN":6,"JUL":7,"AUG":8,"SEP":9,"OCT":10,"NOV":11,"DEC":12}, inplace = True)
pressure_df.head()
YEAR	1	2	3	4	5	6	7	8	9	10	11	12
0	1981	94.20	94.10	93.97	93.78	93.66	93.56	93.58	93.62	93.69	93.94	94.05	94.30
1	1982	94.18	94.01	93.90	93.79	93.79	93.63	93.59	93.66	93.84	94.02	94.08	94.27
2	1983	94.27	94.07	93.98	93.81	93.71	93.57	93.59	93.59	93.67	93.83	94.17	94.14
3	1984	93.98	93.90	93.94	93.70	93.56	93.48	93.51	93.66	93.77	93.92	94.11	94.00
4	1985	94.09	93.72	93.89	93.67	93.55	93.60	93.68	93.62	93.75	93.86	94.05	94.15
windspeed_df=pd.read_csv("Collected Dataset/Wind_Speed.csv")
windspeed_df.head()
YEAR	JAN	FEB	MAR	APR	MAY	JUN	JUL	AUG	SEP	OCT	NOV	DEC	ANN
0	1981	7.29	7.15	7.05	9.35	8.31	9.61	8.81	10.47	8.70	8.83	7.58	7.23	12.99
1	1982	7.68	6.14	7.47	9.29	6.65	10.27	9.51	8.90	8.73	6.58	8.37	6.70	13.64
2	1983	7.41	6.71	9.25	10.79	9.80	15.41	9.66	9.92	8.40	9.20	8.77	9.21	15.48
3	1984	7.57	8.34	7.80	10.02	11.00	13.09	12.59	7.66	10.71	8.23	6.33	8.33	14.17
4	1985	8.12	6.91	8.68	9.02	9.73	9.15	8.80	8.38	8.44	9.83	7.91	7.60	12.52
windspeed_df.count()
YEAR    41
JAN     41
FEB     41
MAR     41
APR     41
MAY     41
JUN     41
JUL     41
AUG     41
SEP     41
OCT     41
NOV     41
DEC     41
ANN     41
dtype: int64
windspeed_df.isnull().sum()
YEAR    0
JAN     0
FEB     0
MAR     0
APR     0
MAY     0
JUN     0
JUL     0
AUG     0
SEP     0
OCT     0
NOV     0
DEC     0
ANN     0
dtype: int64
windspeed_df=windspeed_df.drop(['ANN'], axis=1)
windspeed_df.rename(columns={"JAN":1,"FEB":2,"MAR":3,"APR":4,"MAY":5,"JUN":6,"JUL":7,"AUG":8,"SEP":9,"OCT":10,"NOV":11,"DEC":12}, inplace = True)
windspeed_df.head()
YEAR	1	2	3	4	5	6	7	8	9	10	11	12
0	1981	7.29	7.15	7.05	9.35	8.31	9.61	8.81	10.47	8.70	8.83	7.58	7.23
1	1982	7.68	6.14	7.47	9.29	6.65	10.27	9.51	8.90	8.73	6.58	8.37	6.70
2	1983	7.41	6.71	9.25	10.79	9.80	15.41	9.66	9.92	8.40	9.20	8.77	9.21
3	1984	7.57	8.34	7.80	10.02	11.00	13.09	12.59	7.66	10.71	8.23	6.33	8.33
4	1985	8.12	6.91	8.68	9.02	9.73	9.15	8.80	8.38	8.44	9.83	7.91	7.60
sub=rain_df["SUBDIVISION"].unique()
year=pd.Series(np.arange(1981,2016))
year
0     1981
1     1982
2     1983
3     1984
4     1985
5     1986
6     1987
7     1988
8     1989
9     1990
10    1991
11    1992
12    1993
13    1994
14    1995
15    1996
16    1997
17    1998
18    1999
19    2000
20    2001
21    2002
22    2003
23    2004
24    2005
25    2006
26    2007
27    2008
28    2009
29    2010
30    2011
31    2012
32    2013
33    2014
34    2015
dtype: int32
a=pd.DataFrame({"SUBDIVISION":[],"YEAR":[],"MONTH":[],"MAX_TEMP":[],"MIN_TEMP":[],"MEAN_TEMP":[],"PRECEPTIONS":[],"PRESSURE":[],"WIND_SPEED":[],"RAINFALL":[],})
a
SUBDIVISION	YEAR	MONTH	MAX_TEMP	MIN_TEMP	MEAN_TEMP	PRECEPTIONS	PRESSURE	WIND_SPEED	RAINFALL
t=pd.DataFrame({"RAINFALL":[]})
for i in range(0,len(sub)):
    for j in range(0,len(year)):
        month=rain_df[rain_df["YEAR"]==year[j]]
        month=month[month["SUBDIVISION"]==sub[i]]
        t["RAINFALL"]=month[[1,2,3,4,5,6,7,8,9,10,11,12]].T
        #t=t.rename(columns={j:"RAINFALL"})
        month=month[["SUBDIVISION","YEAR"]]
        month=maxtemp_df[maxtemp_df["YEAR"]==year[j]]
        t["MAX_TEMP"]=month[[1,2,3,4,5,6,7,8,9,10,11,12]].T
        month=mintemp_df[mintemp_df["YEAR"]==year[j]]
        t["MIN_TEMP"]=month[[1,2,3,4,5,6,7,8,9,10,11,12]].T
        month=meantemp_df[meantemp_df["YEAR"]==year[j]]
        t["MEAN_TEMP"]=month[[1,2,3,4,5,6,7,8,9,10,11,12]].T
        month=preceptions_df[preceptions_df["YEAR"]==year[j]]
        t["PRECEPTIONS"]=month[[1,2,3,4,5,6,7,8,9,10,11,12]].T
        month=pressure_df[pressure_df["YEAR"]==year[j]]
        t["PRESSURE"]=month[[1,2,3,4,5,6,7,8,9,10,11,12]].T
        month=windspeed_df[windspeed_df["YEAR"]==year[j]]
        t["WIND_SPEED"]=month[[1,2,3,4,5,6,7,8,9,10,11,12]].T
        t["SUBDIVISION"]=sub[i]
        t["YEAR"]=year[j]
        t["MONTH"]=[1,2,3,4,5,6,7,8,9,10,11,12]
        a=a.append(t)
a.head(20)
SUBDIVISION	YEAR	MONTH	MAX_TEMP	MIN_TEMP	MEAN_TEMP	PRECEPTIONS	PRESSURE	WIND_SPEED	RAINFALL
1	ANDAMAN & NICOBAR ISLANDS	1981.0	1.0	10.68	23.80	17.21	20.72	94.20	7.29	11.1
2	ANDAMAN & NICOBAR ISLANDS	1981.0	2.0	12.99	27.48	20.21	8.59	94.10	7.15	27.8
3	ANDAMAN & NICOBAR ISLANDS	1981.0	3.0	16.50	30.73	23.59	34.10	93.97	7.05	1.7
4	ANDAMAN & NICOBAR ISLANDS	1981.0	4.0	21.06	35.07	28.04	35.36	93.78	9.35	94.1
5	ANDAMAN & NICOBAR ISLANDS	1981.0	5.0	23.54	36.59	30.04	64.94	93.66	8.31	270.8
6	ANDAMAN & NICOBAR ISLANDS	1981.0	6.0	24.72	35.17	29.92	142.82	93.56	9.61	600.6
7	ANDAMAN & NICOBAR ISLANDS	1981.0	7.0	23.33	30.73	27.01	319.13	93.58	8.81	344.1
8	ANDAMAN & NICOBAR ISLANDS	1981.0	8.0	22.88	30.25	26.54	253.92	93.62	10.47	510.7
9	ANDAMAN & NICOBAR ISLANDS	1981.0	9.0	22.13	31.17	26.63	204.78	93.69	8.70	452.6
10	ANDAMAN & NICOBAR ISLANDS	1981.0	10.0	19.07	30.94	24.98	52.51	93.94	8.83	242.1
11	ANDAMAN & NICOBAR ISLANDS	1981.0	11.0	13.98	27.08	20.50	22.46	94.05	7.58	348.4
12	ANDAMAN & NICOBAR ISLANDS	1981.0	12.0	10.90	24.56	17.71	11.81	94.30	7.23	170.7
1	ANDAMAN & NICOBAR ISLANDS	1982.0	1.0	11.35	24.72	18.02	17.44	94.18	7.68	8.8
2	ANDAMAN & NICOBAR ISLANDS	1982.0	2.0	12.67	25.97	19.30	11.22	94.01	6.14	2.8
3	ANDAMAN & NICOBAR ISLANDS	1982.0	3.0	15.72	29.99	22.83	25.78	93.90	7.47	6.6
4	ANDAMAN & NICOBAR ISLANDS	1982.0	4.0	20.52	34.24	27.35	38.18	93.79	9.29	97.5
5	ANDAMAN & NICOBAR ISLANDS	1982.0	5.0	22.78	35.65	29.19	52.07	93.79	6.65	229.2
6	ANDAMAN & NICOBAR ISLANDS	1982.0	6.0	24.25	34.67	29.44	128.74	93.63	10.27	448.7
7	ANDAMAN & NICOBAR ISLANDS	1982.0	7.0	24.00	32.24	28.10	250.82	93.59	9.51	410.5
8	ANDAMAN & NICOBAR ISLANDS	1982.0	8.0	22.91	30.28	26.57	246.21	93.66	8.90	347.6
a.count()
SUBDIVISION    15120
YEAR           15120
MONTH          15120
MAX_TEMP       15120
MIN_TEMP       15120
MEAN_TEMP      15120
PRECEPTIONS    15120
PRESSURE       15120
WIND_SPEED     15120
RAINFALL       15120
dtype: int64
a.dropna()
SUBDIVISION	YEAR	MONTH	MAX_TEMP	MIN_TEMP	MEAN_TEMP	PRECEPTIONS	PRESSURE	WIND_SPEED	RAINFALL
1	ANDAMAN & NICOBAR ISLANDS	1981.0	1.0	10.68	23.80	17.21	20.72	94.20	7.29	11.1
2	ANDAMAN & NICOBAR ISLANDS	1981.0	2.0	12.99	27.48	20.21	8.59	94.10	7.15	27.8
3	ANDAMAN & NICOBAR ISLANDS	1981.0	3.0	16.50	30.73	23.59	34.10	93.97	7.05	1.7
4	ANDAMAN & NICOBAR ISLANDS	1981.0	4.0	21.06	35.07	28.04	35.36	93.78	9.35	94.1
5	ANDAMAN & NICOBAR ISLANDS	1981.0	5.0	23.54	36.59	30.04	64.94	93.66	8.31	270.8
...	...	...	...	...	...	...	...	...	...	...
8	LAKSHADWEEP	2015.0	8.0	23.50	30.79	27.12	252.07	93.80	10.68	146.4
9	LAKSHADWEEP	2015.0	9.0	22.71	31.73	27.19	156.85	93.84	10.12	160.4
10	LAKSHADWEEP	2015.0	10.0	20.19	31.95	26.05	48.28	94.07	7.45	165.4
11	LAKSHADWEEP	2015.0	11.0	15.87	29.21	22.52	41.11	94.08	7.91	231.0
12	LAKSHADWEEP	2015.0	12.0	12.21	25.75	18.96	11.60	94.27	8.04	159.0
15120 rows × 10 columns

a.dtypes
SUBDIVISION     object
YEAR           float64
MONTH          float64
MAX_TEMP       float64
MIN_TEMP       float64
MEAN_TEMP      float64
PRECEPTIONS    float64
PRESSURE       float64
WIND_SPEED     float64
RAINFALL       float64
dtype: object
a=a.astype({"MONTH": np.int64,"YEAR":np.int64})
a.tail()
SUBDIVISION	YEAR	MONTH	MAX_TEMP	MIN_TEMP	MEAN_TEMP	PRECEPTIONS	PRESSURE	WIND_SPEED	RAINFALL
8	LAKSHADWEEP	2015	8	23.50	30.79	27.12	252.07	93.80	10.68	146.4
9	LAKSHADWEEP	2015	9	22.71	31.73	27.19	156.85	93.84	10.12	160.4
10	LAKSHADWEEP	2015	10	20.19	31.95	26.05	48.28	94.07	7.45	165.4
11	LAKSHADWEEP	2015	11	15.87	29.21	22.52	41.11	94.08	7.91	231.0
12	LAKSHADWEEP	2015	12	12.21	25.75	18.96	11.60	94.27	8.04	159.0
a.to_csv('Final Dataset/Rainfall_prediction.csv',index=False)
